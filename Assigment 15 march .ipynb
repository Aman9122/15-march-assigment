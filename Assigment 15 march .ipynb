{
 "cells": [
  {
   "cell_type": "code",
   "execution_count": null,
   "id": "15a9778d",
   "metadata": {},
   "outputs": [],
   "source": [
    "# Explain the following with an example:\n",
    "# 1 Artificial Intelligenc\n",
    "# 2 Machine Learnin\n",
    "# 3 Deep Learning\n",
    "'''1. Artificial Intelligenc is samrt application that can be perform\n",
    "our  own task with out any human intersaction or other intraction \n",
    "\n",
    "Example : Google Assistant Siri ; siri is spoken artificial Intelligenc . he can be perfrom with out any human intraction \n",
    "\n",
    "    2. Machine learning is a subset of Artifical Intelligenc , it provide stat too to analyis, visulaize , for prediction models\n",
    "       it mainly use for create recommedcation system\n",
    "    \n",
    "    3. Deep learning is another subset of Artifical Intelligend, it provide a very deep layer to perform the our large data to \n",
    "    couvert in to raw data (useful data)\n",
    "    \n",
    "    example ; image recongnition, chat-bots\n",
    "'''\n",
    "\n",
    "  # Q2: What is supervised learning? List some examples of supervised learning.  \n",
    "'''  when we create a model for any data set to perfrom then in supervised learning we know that thire outpur. means in this machice\n",
    "    learning we know output future of the data set   \n",
    "    \n",
    "    the out come of will be predicatble'''\n",
    "\n",
    "\n",
    " # Q3: What is unsupervised learning? List some examples of unsupervised learning.\n",
    "'''  in unsupervised learning we can't predict our product output  , means unsupervised machine learning the out put will be \n",
    "countinues '''\n",
    "\n",
    "\n",
    "  # Q4: What is the difference between AI, ML, DL, and DS?\n",
    "    \n",
    "    ''' AI is work without any human intraction. it is borad filed focus on createing system, machine learning work with human intraction and machine learning is subset of \n",
    "    artifical intelligance . machine learning systems improve their performance as they are exposed to more , deep learning is is another speclince subset of machine learning means it work it nutural types , \n",
    "    data science is all three's combination to perfrom better, DS is the practice of analyzing data and using techniques like AI, ML, and DL to gain insights and make decisions. '''\n",
    "    \n",
    "    \n",
    "  # Q5: What are the main differences between supervised, unsupervised, and semi-supervised learning?\n",
    " '''main differences between supervised , unsupervised , and semi-supervised learning  is, in supervised learning the output will be predicatable\n",
    " , and in unsupervised machine learning out put will be countiunes , or not precdicable,   ., in semi-supervised learning the out put my be predicatble or not predicable\n",
    " '''\n",
    " # Q6 : What is train, test and validation split? Explain the importance of each term.\n",
    "''' in Traning data set, we learn about the pattern of the data set to train our model for better result. \n",
    "    in test data set  we learn differnt type of pattern predict my model working or not\n",
    "    in test data set we test out data how is it accutrate '''\n",
    "\n",
    "# Q7 : How can unsupervised learning be used in anomaly detection?\n",
    "   '''Anomaly Detection: Data points that do not fit well into any cluster or \n",
    "   are far from cluster centroids can be considered anomalies. For example, \n",
    "   in k-means clustering, points that are far from any cluster centroid can be flagged as anomalie'''\n",
    "    \n",
    "# Q8 : List down some commonly used supervised learning algorithms and unsupervised learning algorithms\n",
    " ''' linear regression, disicion tree, logical regression'''"
   ]
  },
  {
   "cell_type": "code",
   "execution_count": null,
   "id": "33e60ee7",
   "metadata": {},
   "outputs": [],
   "source": []
  }
 ],
 "metadata": {
  "kernelspec": {
   "display_name": "Python 3 (ipykernel)",
   "language": "python",
   "name": "python3"
  },
  "language_info": {
   "codemirror_mode": {
    "name": "ipython",
    "version": 3
   },
   "file_extension": ".py",
   "mimetype": "text/x-python",
   "name": "python",
   "nbconvert_exporter": "python",
   "pygments_lexer": "ipython3",
   "version": "3.11.3"
  }
 },
 "nbformat": 4,
 "nbformat_minor": 5
}
